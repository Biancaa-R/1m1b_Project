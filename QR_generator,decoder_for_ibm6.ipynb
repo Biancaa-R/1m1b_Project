{
  "nbformat": 4,
  "nbformat_minor": 0,
  "metadata": {
    "colab": {
      "name": "QR generator,decoder for ibm6.ipynb",
      "provenance": [],
      "authorship_tag": "ABX9TyNYy4Bpd3pIGNabPduk78q4",
      "include_colab_link": true
    },
    "kernelspec": {
      "name": "python3",
      "display_name": "Python 3"
    },
    "language_info": {
      "name": "python"
    }
  },
  "cells": [
    {
      "cell_type": "markdown",
      "metadata": {
        "id": "view-in-github",
        "colab_type": "text"
      },
      "source": [
        "<a href=\"https://colab.research.google.com/github/Biancaa-R/1m1b_Project/blob/main/QR_generator%2Cdecoder_for_ibm6.ipynb\" target=\"_parent\"><img src=\"https://colab.research.google.com/assets/colab-badge.svg\" alt=\"Open In Colab\"/></a>"
      ]
    },
    {
      "cell_type": "markdown",
      "metadata": {
        "id": "hlGGz7YT-jjg"
      },
      "source": [
        "NECESSARY PACKAGES:"
      ]
    },
    {
      "cell_type": "code",
      "metadata": {
        "colab": {
          "base_uri": "https://localhost:8080/"
        },
        "id": "PqFAD8v48zNN",
        "outputId": "c3eac1e2-c898-4f28-a7ea-11c8058098a6"
      },
      "source": [
        "!pip install pyqrcode\n",
        "!pip install pypng\n",
        "!pip install pillow\n",
        "!pip install pyzbar"
      ],
      "execution_count": 1,
      "outputs": [
        {
          "output_type": "stream",
          "name": "stdout",
          "text": [
            "Collecting pyqrcode\n",
            "  Downloading PyQRCode-1.2.1.zip (41 kB)\n",
            "\u001b[?25l\r\u001b[K     |███████▉                        | 10 kB 21.9 MB/s eta 0:00:01\r\u001b[K     |███████████████▋                | 20 kB 26.7 MB/s eta 0:00:01\r\u001b[K     |███████████████████████▌        | 30 kB 15.4 MB/s eta 0:00:01\r\u001b[K     |███████████████████████████████▎| 40 kB 11.5 MB/s eta 0:00:01\r\u001b[K     |████████████████████████████████| 41 kB 440 kB/s \n",
            "\u001b[?25hBuilding wheels for collected packages: pyqrcode\n",
            "  Building wheel for pyqrcode (setup.py) ... \u001b[?25l\u001b[?25hdone\n",
            "  Created wheel for pyqrcode: filename=PyQRCode-1.2.1-py3-none-any.whl size=36245 sha256=93ffd9288e8c810e5b8eb1d3e36797e7f2e866c51cabae44c303f18d4b8d9264\n",
            "  Stored in directory: /root/.cache/pip/wheels/aa/14/ad/f09824edf35fdc5fd8acc01b60ff57f858f212a2d5c41dddd2\n",
            "Successfully built pyqrcode\n",
            "Installing collected packages: pyqrcode\n",
            "Successfully installed pyqrcode-1.2.1\n",
            "Collecting pypng\n",
            "  Downloading pypng-0.0.21-py3-none-any.whl (48 kB)\n",
            "\u001b[K     |████████████████████████████████| 48 kB 2.8 MB/s \n",
            "\u001b[?25hInstalling collected packages: pypng\n",
            "Successfully installed pypng-0.0.21\n",
            "Requirement already satisfied: pillow in /usr/local/lib/python3.7/dist-packages (7.1.2)\n",
            "Collecting pyzbar\n",
            "  Downloading pyzbar-0.1.8-py2.py3-none-any.whl (28 kB)\n",
            "Installing collected packages: pyzbar\n",
            "Successfully installed pyzbar-0.1.8\n"
          ]
        }
      ]
    },
    {
      "cell_type": "code",
      "metadata": {
        "colab": {
          "base_uri": "https://localhost:8080/"
        },
        "id": "B83mog4p-rFy",
        "outputId": "7a1ac6f8-abca-4c0b-d067-e60cc5478754"
      },
      "source": [
        "!apt install libzbar0"
      ],
      "execution_count": 2,
      "outputs": [
        {
          "output_type": "stream",
          "name": "stdout",
          "text": [
            "Reading package lists... Done\n",
            "Building dependency tree       \n",
            "Reading state information... Done\n",
            "The following additional packages will be installed:\n",
            "  libv4l-0 libv4lconvert0\n",
            "The following NEW packages will be installed:\n",
            "  libv4l-0 libv4lconvert0 libzbar0\n",
            "0 upgraded, 3 newly installed, 0 to remove and 37 not upgraded.\n",
            "Need to get 193 kB of archives.\n",
            "After this operation, 760 kB of additional disk space will be used.\n",
            "Get:1 http://archive.ubuntu.com/ubuntu bionic/main amd64 libv4lconvert0 amd64 1.14.2-1 [76.1 kB]\n",
            "Get:2 http://archive.ubuntu.com/ubuntu bionic/main amd64 libv4l-0 amd64 1.14.2-1 [41.7 kB]\n",
            "Get:3 http://archive.ubuntu.com/ubuntu bionic/universe amd64 libzbar0 amd64 0.10+doc-10.1build2 [75.7 kB]\n",
            "Fetched 193 kB in 1s (211 kB/s)\n",
            "Selecting previously unselected package libv4lconvert0:amd64.\n",
            "(Reading database ... 155047 files and directories currently installed.)\n",
            "Preparing to unpack .../libv4lconvert0_1.14.2-1_amd64.deb ...\n",
            "Unpacking libv4lconvert0:amd64 (1.14.2-1) ...\n",
            "Selecting previously unselected package libv4l-0:amd64.\n",
            "Preparing to unpack .../libv4l-0_1.14.2-1_amd64.deb ...\n",
            "Unpacking libv4l-0:amd64 (1.14.2-1) ...\n",
            "Selecting previously unselected package libzbar0:amd64.\n",
            "Preparing to unpack .../libzbar0_0.10+doc-10.1build2_amd64.deb ...\n",
            "Unpacking libzbar0:amd64 (0.10+doc-10.1build2) ...\n",
            "Setting up libv4lconvert0:amd64 (1.14.2-1) ...\n",
            "Setting up libv4l-0:amd64 (1.14.2-1) ...\n",
            "Setting up libzbar0:amd64 (0.10+doc-10.1build2) ...\n",
            "Processing triggers for libc-bin (2.27-3ubuntu1.3) ...\n",
            "/sbin/ldconfig.real: /usr/local/lib/python3.7/dist-packages/ideep4py/lib/libmkldnn.so.0 is not a symbolic link\n",
            "\n"
          ]
        }
      ]
    },
    {
      "cell_type": "markdown",
      "metadata": {
        "id": "R5XX3_JD94Jc"
      },
      "source": [
        "QR CODE GENERATOR:\n"
      ]
    },
    {
      "cell_type": "code",
      "metadata": {
        "id": "saCfiHBB98gA"
      },
      "source": [
        "import pyqrcode\n",
        "from pyzbar.pyzbar import decode\n",
        "from PIL import Image\n",
        "qr=pyqrcode.create(\"In physics, string theory is a theoretical framework in which\\\n",
        " the point-like particles of particle physics are replaced by one-dimensional objects called\\\n",
        "  strings. String theory describes how these strings propagate through space and interact \\\n",
        "  with each other. ... Thus string theory is a theory of quantum gravity.\")\n",
        "qr.png(\"string theory.png\",scale=8)"
      ],
      "execution_count": 3,
      "outputs": []
    },
    {
      "cell_type": "markdown",
      "metadata": {
        "id": "M-8Mulw0_gpw"
      },
      "source": [
        "as soon as this code is run a png of qrcode with this given text is created and it sits along with the files"
      ]
    },
    {
      "cell_type": "markdown",
      "metadata": {
        "id": "6q7u9R7a-SwE"
      },
      "source": [
        "DECODING THE QRCODE"
      ]
    },
    {
      "cell_type": "code",
      "metadata": {
        "colab": {
          "base_uri": "https://localhost:8080/"
        },
        "id": "J-Bxz1p1-W1T",
        "outputId": "30ad930e-7f4f-4ac7-8e9e-3d58081ab67f"
      },
      "source": [
        "import pyqrcode\n",
        "from pyzbar.pyzbar import decode\n",
        "from PIL import Image\n",
        "d=decode(Image.open(\"string theory.png\"))\n",
        "Y=d[0].data.decode(\"ascii\")\n",
        "print(Y)"
      ],
      "execution_count": 5,
      "outputs": [
        {
          "output_type": "stream",
          "name": "stdout",
          "text": [
            "In physics, string theory is a theoretical framework in which the point-like particles of particle physics are replaced by one-dimensional objects called  strings. String theory describes how these strings propagate through space and interact   with each other. ... Thus string theory is a theory of quantum gravity.\n"
          ]
        }
      ]
    },
    {
      "cell_type": "markdown",
      "metadata": {
        "id": "Qih9QmNCBfAQ"
      },
      "source": [
        "![string theory.png](data:image/png;base64,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)"
      ]
    }
  ]
}